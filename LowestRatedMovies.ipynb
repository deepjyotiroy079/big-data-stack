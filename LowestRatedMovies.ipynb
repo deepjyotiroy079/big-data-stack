{
 "cells": [
  {
   "cell_type": "code",
   "execution_count": 1,
   "id": "occupied-ethernet",
   "metadata": {},
   "outputs": [
    {
     "name": "stdout",
     "output_type": "stream",
     "text": [
      "Movie Name : Lawnmower Man 2: Beyond Cyberspace (1996), Ratings : 1.7142857142857142\n",
      "Movie Name : Free Willy 3: The Rescue (1997), Ratings : 1.7407407407407407\n",
      "Movie Name : Leave It to Beaver (1997), Ratings : 1.8409090909090908\n",
      "Movie Name : Bio-Dome (1996), Ratings : 1.903225806451613\n",
      "Movie Name : Barb Wire (1996), Ratings : 1.9333333333333333\n",
      "Movie Name : Crow: City of Angels, The (1996), Ratings : 1.9487179487179487\n",
      "Movie Name : Mortal Kombat: Annihilation (1997), Ratings : 1.9534883720930232\n",
      "Movie Name : Showgirls (1995), Ratings : 1.9565217391304348\n",
      "Movie Name : Grease 2 (1982), Ratings : 2.0\n",
      "Movie Name : Tales from the Hood (1995), Ratings : 2.037037037037037\n"
     ]
    }
   ],
   "source": [
    "from pyspark import SparkConf, SparkContext\n",
    "\n",
    "def loadMovieNames():\n",
    "    movieNames = {}\n",
    "    with open('u.item', encoding=\"iso-8859-1\") as f:\n",
    "        for lines in f:\n",
    "            fields = lines.split('|')\n",
    "            movieNames[int(fields[0])] = fields[1]\n",
    "            \n",
    "    return movieNames\n",
    "\n",
    "\n",
    "def parseInput(lines):\n",
    "    fields = lines.split()\n",
    "    # (movieID, (ratings, 1.0))\n",
    "    return (int(fields[1]), (float(fields[2]), 1.0))\n",
    "\n",
    "\n",
    "if __name__ == \"__main__\":\n",
    "    \n",
    "    conf = SparkConf().setAppName('LowestRatedMovies')\n",
    "    sc = SparkContext.getOrCreate(conf=conf)\n",
    "    \n",
    "    # loading the movie names\n",
    "    movieNames = loadMovieNames()\n",
    "    \n",
    "    # creating rdd from u.data file\n",
    "    lines = sc.textFile('hdfs://localhost:9000/user/deepjyotiroy079/ml-100k/u.data')\n",
    "    \n",
    "    # (movieID, (ratings, 1.0))\n",
    "    movieRatings = lines.map(parseInput)\n",
    "    \n",
    "    # Reduce to (movieID, (sumOfRatings, totalRatings))\n",
    "    ratingTotalAndCounts = movieRatings.reduceByKey(lambda accumulated, current: (accumulated[0] + current[0], accumulated[1] + current[1]))\n",
    "    \"\"\"\n",
    "           [0], [1] <-----index\n",
    "        1, (3.0, 1) accumulated[0] = 0 current[0] = 3.0 and accumulated[1] = 0, current[1] = 1\n",
    "        1, (2.0, 1) accumulated[0] = 3.0 current[0] = 2.0 and accumulated[1] = 1, current[1] = 1\n",
    "        1, (5.0, 1) accumulated[0] = 5.0 current[0] = 5.0 and accumulated[1] = 2, current[1] = 1\n",
    "        \n",
    "        final output -> accumulated[0] = 10.0, current[0] = 0, accumulated[1] = 3, current[1] = 0\n",
    "    \"\"\"\n",
    "    # filtering out movies which are rated more than 20 times\n",
    "    popularMoviesWithLowestRatings = ratingTotalAndCounts.filter(lambda data: data[1][1] > 20)\n",
    "    \"\"\"           \n",
    "                    [0]              [1]\n",
    "        movieId, (totalRatings, totalCount)\n",
    "        \n",
    "        avg: ratings - totalratings / totalcount\n",
    "    \"\"\"\n",
    "    averageRatings = popularMoviesWithLowestRatings.mapValues(lambda ratingTotalAndCount: ratingTotalAndCount[0] / ratingTotalAndCount[1])\n",
    "    \n",
    "    sortedMovies = averageRatings.sortBy(lambda x: x[1])\n",
    "    \n",
    "    results = sortedMovies.take(10)\n",
    "    \n",
    "    for result in results:\n",
    "        print(f'Movie Name : {movieNames[result[0]]}, Ratings : {result[1]}')"
   ]
  },
  {
   "cell_type": "code",
   "execution_count": null,
   "id": "nutritional-motivation",
   "metadata": {},
   "outputs": [],
   "source": []
  }
 ],
 "metadata": {
  "kernelspec": {
   "display_name": "Python 3",
   "language": "python",
   "name": "python3"
  },
  "language_info": {
   "codemirror_mode": {
    "name": "ipython",
    "version": 3
   },
   "file_extension": ".py",
   "mimetype": "text/x-python",
   "name": "python",
   "nbconvert_exporter": "python",
   "pygments_lexer": "ipython3",
   "version": "3.8.5"
  }
 },
 "nbformat": 4,
 "nbformat_minor": 5
}
