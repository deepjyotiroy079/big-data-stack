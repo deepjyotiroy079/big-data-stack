{
 "cells": [
  {
   "cell_type": "code",
   "execution_count": 1,
   "id": "worth-final",
   "metadata": {},
   "outputs": [],
   "source": [
    "from pyspark import SparkConf, SparkContext\n",
    "\n",
    "conf = SparkConf().setAppName('RDD Paired')\n",
    "sc = SparkContext.getOrCreate(conf=conf)"
   ]
  },
  {
   "cell_type": "markdown",
   "id": "rocky-channel",
   "metadata": {},
   "source": [
    "## Creating paired RDD"
   ]
  },
  {
   "cell_type": "code",
   "execution_count": 2,
   "id": "egyptian-cloud",
   "metadata": {},
   "outputs": [
    {
     "data": {
      "text/plain": [
       "[('a1', ['b1', 'b2', 'b3']), ('a2', ['c1', 'c2', 'c3'])]"
      ]
     },
     "execution_count": 2,
     "metadata": {},
     "output_type": "execute_result"
    }
   ],
   "source": [
    "rdd1 = sc.parallelize([('a1', 'b1', 'b2', 'b3'), ('a2', 'c1','c2','c3')])\n",
    "rdd1.map(lambda x: (x[0], list(x[1:]))).collect()"
   ]
  },
  {
   "cell_type": "markdown",
   "id": "european-equilibrium",
   "metadata": {},
   "source": [
    "## Transformations on Paired RDD\n"
   ]
  },
  {
   "cell_type": "markdown",
   "id": "christian-essex",
   "metadata": {},
   "source": [
    "## reduceByKey(func)\n",
    "\n",
    "combines values with the same key\n",
    "\n",
    "```sc.parallelize([(key, value)])```"
   ]
  },
  {
   "cell_type": "code",
   "execution_count": 6,
   "id": "pediatric-handy",
   "metadata": {},
   "outputs": [
    {
     "data": {
      "text/plain": [
       "[(1, 3), (3, 11)]"
      ]
     },
     "execution_count": 6,
     "metadata": {},
     "output_type": "execute_result"
    }
   ],
   "source": [
    "from operator import add\n",
    "rdd2 = sc.parallelize([(1, 3), (3, 5), (3, 6)])\n",
    "rdd2.reduceByKey(add).take(10)"
   ]
  },
  {
   "cell_type": "markdown",
   "id": "peaceful-tanzania",
   "metadata": {},
   "source": [
    "## groupByKey(func)\n",
    "\n",
    "groups values with the same key\n",
    "\n",
    "```sc.parallelize([(key, value)])```\n",
    "\n",
    "### mapValues(func)\n",
    "\n",
    "Pass each value in the key-value pair RDD through a map function without changing the keys; this also retains the original RDD’s partitioning.\n",
    "\n",
    "```python\n",
    "x = sc.parallelize([(\"a\", [\"apple\", \"banana\", \"lemon\"]), (\"b\", [\"grapes\"])])\n",
    "def f(x): return len(x)\n",
    "x.mapValues(f).collect()\n",
    "```\n",
    "output: ```[('a', 3), ('b', 1)]```"
   ]
  },
  {
   "cell_type": "code",
   "execution_count": 12,
   "id": "worse-creativity",
   "metadata": {},
   "outputs": [
    {
     "data": {
      "text/plain": [
       "[(1, [3]), (2, [7, 8])]"
      ]
     },
     "execution_count": 12,
     "metadata": {},
     "output_type": "execute_result"
    }
   ],
   "source": [
    "rdd3 = sc.parallelize([(1, 3), (2, 7), (2, 8)])\n",
    "rdd3.groupByKey().mapValues(list).collect()"
   ]
  },
  {
   "cell_type": "markdown",
   "id": "restricted-rouge",
   "metadata": {},
   "source": [
    "## flatMapValues(func)\n",
    "\n",
    "applies function that returns an iterator to each value of paired RDD and, for each paired element returned produces a key-value entry with old key; often used for tokenization.\n",
    "\n",
    "In simple terms flatMapValues fill apply function to each paired rdd, key wise"
   ]
  },
  {
   "cell_type": "code",
   "execution_count": 21,
   "id": "regulated-ecology",
   "metadata": {},
   "outputs": [
    {
     "data": {
      "text/plain": [
       "[(1, 2),\n",
       " (1, 3),\n",
       " (1, 4),\n",
       " (2, 1),\n",
       " (2, 2),\n",
       " (2, 3),\n",
       " (2, 4),\n",
       " (4, 4),\n",
       " (5, 3),\n",
       " (5, 4)]"
      ]
     },
     "execution_count": 21,
     "metadata": {},
     "output_type": "execute_result"
    }
   ],
   "source": [
    "rdd4 = sc.parallelize([(1, 2), (2, 1), (4, 4), (5, 3)])\n",
    "rdd4.flatMapValues(lambda x: range(x, 5)).collect()"
   ]
  },
  {
   "cell_type": "markdown",
   "id": "occupational-milan",
   "metadata": {},
   "source": [
    "## keys()\n",
    "\n",
    "returns an RDD containing only the keys"
   ]
  },
  {
   "cell_type": "code",
   "execution_count": 25,
   "id": "appreciated-doubt",
   "metadata": {},
   "outputs": [
    {
     "data": {
      "text/plain": [
       "[1, 2, 7, 9]"
      ]
     },
     "execution_count": 25,
     "metadata": {},
     "output_type": "execute_result"
    }
   ],
   "source": [
    "sc.parallelize([(1, 3), (2, 5), (7, 8), (9, 10)]).keys().collect()"
   ]
  },
  {
   "cell_type": "markdown",
   "id": "metropolitan-introduction",
   "metadata": {},
   "source": [
    "## sortByKey()\n",
    "\n",
    "returns an RDD sorted by key"
   ]
  },
  {
   "cell_type": "code",
   "execution_count": 27,
   "id": "hungry-gibson",
   "metadata": {},
   "outputs": [
    {
     "data": {
      "text/plain": [
       "[(1, 21), (5, 20), (7, 15), (10, 2)]"
      ]
     },
     "execution_count": 27,
     "metadata": {},
     "output_type": "execute_result"
    }
   ],
   "source": [
    "sc.parallelize([(10, 2), (5, 20), (1, 21), (7, 15)]).sortByKey().take(10)"
   ]
  },
  {
   "cell_type": "markdown",
   "id": "manual-livestock",
   "metadata": {},
   "source": [
    "# Transformations on two paired RDDs\n",
    "\n"
   ]
  },
  {
   "cell_type": "markdown",
   "id": "recent-payroll",
   "metadata": {},
   "source": [
    "## subtractByKey()\n",
    "\n",
    "removes elements with the key present in the other RDD"
   ]
  },
  {
   "cell_type": "code",
   "execution_count": 32,
   "id": "painted-caribbean",
   "metadata": {},
   "outputs": [
    {
     "data": {
      "text/plain": [
       "[(1, 2)]"
      ]
     },
     "execution_count": 32,
     "metadata": {},
     "output_type": "execute_result"
    }
   ],
   "source": [
    "rdd_1 = sc.parallelize([(1, 2), (3, 4), (3, 6)])\n",
    "rdd_2 = sc.parallelize([(3, 9)])\n",
    "\n",
    "rdd_1.subtractByKey(rdd_2).collect()"
   ]
  },
  {
   "cell_type": "markdown",
   "id": "featured-witch",
   "metadata": {},
   "source": [
    "## join()\n",
    "\n",
    "performs inner join between the RDDs.\n",
    "\n",
    "Keys must be present in both the RDDs."
   ]
  },
  {
   "cell_type": "code",
   "execution_count": 36,
   "id": "banned-invalid",
   "metadata": {},
   "outputs": [
    {
     "data": {
      "text/plain": [
       "[(3, (4, 9)), (3, (6, 9))]"
      ]
     },
     "execution_count": 36,
     "metadata": {},
     "output_type": "execute_result"
    }
   ],
   "source": [
    "rdd_1 = sc.parallelize([(1, 2), (3, 4), (3, 6)])\n",
    "rdd_2 = sc.parallelize([(3, 9)])\n",
    "\n",
    "rdd_1.join(rdd_2).take(10)"
   ]
  },
  {
   "cell_type": "markdown",
   "id": "committed-parish",
   "metadata": {},
   "source": [
    "For example: \n",
    "There are 3 employee IDs : 100, 101 and 103\n",
    "There are 6 departments having IDs: 500, 600, 700, 800, 1100\n",
    "\n",
    "emp_id 100 works for dept_id 500 as well as dept_id 1100\n",
    "emp_id 101 works for dept_id 600 as well as dept_id 800\n",
    "\n",
    "Task is to find the ```(empIds, [deptIds])``` where emp_id work for multiple departments\n"
   ]
  },
  {
   "cell_type": "code",
   "execution_count": 37,
   "id": "behavioral-tiger",
   "metadata": {},
   "outputs": [
    {
     "data": {
      "text/plain": [
       "[(100, (500, 1100)), (101, (600, 800))]"
      ]
     },
     "execution_count": 37,
     "metadata": {},
     "output_type": "execute_result"
    }
   ],
   "source": [
    "rdd_3 = sc.parallelize([(100, 500), (101, 600), (103, 700)])\n",
    "rdd_4 = sc.parallelize([(100, 1100),(101, 800)])\n",
    "rdd_3.join(rdd_4).collect()"
   ]
  },
  {
   "cell_type": "markdown",
   "id": "affected-blind",
   "metadata": {},
   "source": [
    "## rightOuterJoin()\n",
    "\n",
    "key must be present in the first RDD."
   ]
  },
  {
   "cell_type": "code",
   "execution_count": 42,
   "id": "toxic-minister",
   "metadata": {},
   "outputs": [
    {
     "data": {
      "text/plain": [
       "[(3, (4, 9)), (3, (6, 9)), (5, (None, 7))]"
      ]
     },
     "execution_count": 42,
     "metadata": {},
     "output_type": "execute_result"
    }
   ],
   "source": [
    "rdd_5 = sc.parallelize([(1, 2), (3, 4), (3, 6)])\n",
    "rdd_6 = sc.parallelize([(3, 9), (5, 7)])\n",
    "rdd_5.rightOuterJoin(rdd_6).collect()"
   ]
  },
  {
   "cell_type": "code",
   "execution_count": 43,
   "id": "persistent-poultry",
   "metadata": {},
   "outputs": [
    {
     "data": {
      "text/plain": [
       "[(3, (4, 9)), (3, (6, 9)), (5, (11, 7))]"
      ]
     },
     "execution_count": 43,
     "metadata": {},
     "output_type": "execute_result"
    }
   ],
   "source": [
    "rdd_5 = sc.parallelize([(1, 2), (3, 4), (3, 6), (5, 11)])\n",
    "rdd_6 = sc.parallelize([(3, 9), (5, 7)])\n",
    "rdd_5.rightOuterJoin(rdd_6).collect()"
   ]
  },
  {
   "cell_type": "markdown",
   "id": "interracial-input",
   "metadata": {},
   "source": [
    "## leftOuterJoin()\n",
    "\n",
    "key must be present in the other RDD."
   ]
  },
  {
   "cell_type": "code",
   "execution_count": 44,
   "id": "personal-money",
   "metadata": {},
   "outputs": [
    {
     "data": {
      "text/plain": [
       "[(1, (2, None)), (3, (4, 9)), (3, (6, 9))]"
      ]
     },
     "execution_count": 44,
     "metadata": {},
     "output_type": "execute_result"
    }
   ],
   "source": [
    "rdd_5 = sc.parallelize([(1, 2), (3, 4), (3, 6)])\n",
    "rdd_6 = sc.parallelize([(3, 9)])\n",
    "rdd_5.leftOuterJoin(rdd_6).collect()"
   ]
  },
  {
   "cell_type": "markdown",
   "id": "ideal-highlight",
   "metadata": {},
   "source": [
    "## cogroup()\n",
    "\n",
    "groups the data from both RDDs having the same key.\n",
    "\n",
    "## RDD.cogroup(other, numPartitions=None)\n",
    "\n",
    "For each key k in self or other, return a resulting RDD that contains a tuple with the list of values for that key in self as well as other.\n",
    "\n",
    "### Examples\n",
    "\n",
    "```python\n",
    "x = sc.parallelize([(\"a\", 1), (\"b\", 4)])\n",
    "y = sc.parallelize([(\"a\", 2)])\n",
    "[(x, tuple(map(list, y))) for x, y in sorted(list(x.cogroup(y).collect()))]\n",
    "```\n",
    "\n",
    "Output : ```[('a', ([1], [2])), ('b', ([4], []))]```"
   ]
  },
  {
   "cell_type": "code",
   "execution_count": 49,
   "id": "occupied-celebration",
   "metadata": {},
   "outputs": [
    {
     "data": {
      "text/plain": [
       "[(1, ([2], [])), (3, ([4, 6], [9]))]"
      ]
     },
     "execution_count": 49,
     "metadata": {},
     "output_type": "execute_result"
    }
   ],
   "source": [
    "rdd_5 = sc.parallelize([(1, 2), (3, 4), (3, 6)])\n",
    "rdd_6 = sc.parallelize([(3, 9)])\n",
    "[(x, tuple(map(list, y))) for x, y in sorted(list(rdd_5.cogroup(rdd_6).collect()))]"
   ]
  },
  {
   "cell_type": "markdown",
   "id": "worth-australian",
   "metadata": {},
   "source": [
    "# RDD Lineage\n",
    "\n",
    "- RDD Lineage is a graph of all parent RDDs of an RDD.\n",
    "- It is build by applying transformations to RDD and creating a logical execution plan\n",
    "\n",
    "Consider the below series of transformtions"
   ]
  },
  {
   "cell_type": "code",
   "execution_count": 55,
   "id": "functional-manhattan",
   "metadata": {},
   "outputs": [
    {
     "data": {
      "text/plain": [
       "b'(4) PythonRDD[305] at RDD at PythonRDD.scala:53 []\\n |  ParallelCollectionRDD[304] at readRDDFromFile at PythonRDD.scala:262 []'"
      ]
     },
     "execution_count": 55,
     "metadata": {},
     "output_type": "execute_result"
    }
   ],
   "source": [
    "sc.parallelize([(1, 3), (2, 3)]).flatMapValues(lambda c: range(c, 5)).toDebugString()"
   ]
  },
  {
   "cell_type": "markdown",
   "id": "powered-replacement",
   "metadata": {},
   "source": [
    "An RDD Lineage Graph is hence a graph of transformations that need to be executed after action has been called\n",
    "\n",
    "We can create RDD Lineage graph using the ```RDD.toDebugString``` method"
   ]
  },
  {
   "cell_type": "code",
   "execution_count": null,
   "id": "coastal-mercy",
   "metadata": {},
   "outputs": [],
   "source": []
  }
 ],
 "metadata": {
  "kernelspec": {
   "display_name": "Python 3",
   "language": "python",
   "name": "python3"
  },
  "language_info": {
   "codemirror_mode": {
    "name": "ipython",
    "version": 3
   },
   "file_extension": ".py",
   "mimetype": "text/x-python",
   "name": "python",
   "nbconvert_exporter": "python",
   "pygments_lexer": "ipython3",
   "version": "3.8.7"
  }
 },
 "nbformat": 4,
 "nbformat_minor": 5
}
