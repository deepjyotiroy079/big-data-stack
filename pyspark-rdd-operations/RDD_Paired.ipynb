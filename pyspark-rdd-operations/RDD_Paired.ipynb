{
 "cells": [
  {
   "cell_type": "code",
   "execution_count": 1,
   "id": "worth-final",
   "metadata": {},
   "outputs": [],
   "source": [
    "from pyspark import SparkConf, SparkContext\n",
    "\n",
    "conf = SparkConf().setAppName('RDD Paired')\n",
    "sc = SparkContext.getOrCreate(conf=conf)"
   ]
  },
  {
   "cell_type": "markdown",
   "id": "rocky-channel",
   "metadata": {},
   "source": [
    "## Creating paired RDD"
   ]
  },
  {
   "cell_type": "code",
   "execution_count": 4,
   "id": "egyptian-cloud",
   "metadata": {},
   "outputs": [
    {
     "data": {
      "text/plain": [
       "[('a1', ['b1', 'b2', 'b3']), ('a2', ['c1', 'c2', 'c3'])]"
      ]
     },
     "execution_count": 4,
     "metadata": {},
     "output_type": "execute_result"
    }
   ],
   "source": [
    "rdd1 = sc.parallelize([('a1', 'b1', 'b2', 'b3'), ('a2', 'c1','c2','c3')])\n",
    "rdd1.map(lambda x: (x[0], list(x[1:]))).collect()"
   ]
  },
  {
   "cell_type": "markdown",
   "id": "european-equilibrium",
   "metadata": {},
   "source": [
    "## Transformations on Paired RDD\n",
    "\n",
    "- Transformations on one pair of RDD\n",
    "\n",
    "Eg. ```rdd = [(1, 2), (3, 4), (3, 6)]```\n",
    "- <strong>reduceByKey(func)</strong> : Combines values with the same key. \n",
    "\n",
    "Example: rdd.reduceByKey(add).\n",
    "Result : ```[(1,2), (3, 10)]```\n",
    "\n",
    "- <strong>groupByKey(func)</strong> : Groups values with the same key\n",
    "\n",
    "Example: rdd.groupByKey(add)\n",
    "Result : ```[(1, [2]), (3, [4, 6])]```\n",
    "\n",
    "- <strong>mapValues(func)</strong> : applies function to each element of RDD without changing the key.\n",
    "\n",
    "Example: rdd.mapValues(lambda x: x+1)\n",
    "Result : ```[(1, 3), (3, 3),(3, 7)])]```\n",
    "\n",
    "\n",
    "- <strong>flatMapValues(func)</strong> : Applies a function that returns an iterator to each value of a paired RDD and for each element returned, produces a key-value entry with the old-key. Often used for tekenization\n",
    "\n",
    "\n",
    "Example: rdd.flatMapValues(lambda x: range(x, 5))\n",
    "<!-- Result : ```[(1, [2]), (3, [4, 6])]``` -->\n",
    "\n"
   ]
  },
  {
   "cell_type": "code",
   "execution_count": null,
   "id": "breeding-designer",
   "metadata": {},
   "outputs": [],
   "source": []
  }
 ],
 "metadata": {
  "kernelspec": {
   "display_name": "Python 3",
   "language": "python",
   "name": "python3"
  },
  "language_info": {
   "codemirror_mode": {
    "name": "ipython",
    "version": 3
   },
   "file_extension": ".py",
   "mimetype": "text/x-python",
   "name": "python",
   "nbconvert_exporter": "python",
   "pygments_lexer": "ipython3",
   "version": "3.8.7"
  }
 },
 "nbformat": 4,
 "nbformat_minor": 5
}
