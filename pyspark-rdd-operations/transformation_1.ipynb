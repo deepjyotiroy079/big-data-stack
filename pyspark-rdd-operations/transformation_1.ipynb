{
 "cells": [
  {
   "cell_type": "markdown",
   "id": "dried-savings",
   "metadata": {},
   "source": [
    "## Initializing Spark"
   ]
  },
  {
   "cell_type": "code",
   "execution_count": 1,
   "id": "express-district",
   "metadata": {},
   "outputs": [],
   "source": [
    "from pyspark import SparkContext, SparkConf\n",
    "\n",
    "conf = SparkConf().setAppName('transformation_1')\n",
    "sc = SparkContext.getOrCreate(conf=conf)"
   ]
  },
  {
   "cell_type": "markdown",
   "id": "adjusted-wrong",
   "metadata": {},
   "source": [
    "- Loading File from data folder\n",
    "- Creating map and flatmap\n",
    "\n",
    "## Applying Transformations\n",
    "### Map\n",
    "```python\n",
    "map(func)\n",
    "```\n",
    "Return a new distributed dataset formed by passing each element of the source through a function func.\n",
    "\n",
    "### FlatMap\n",
    "\n",
    "```python\n",
    "flatMap(func)\n",
    "```\n",
    "Similar to map, but each input item can be mapped to 0 or more output items (so func should return a Seq rather than a single item)."
   ]
  },
  {
   "cell_type": "code",
   "execution_count": 7,
   "id": "compressed-bandwidth",
   "metadata": {},
   "outputs": [],
   "source": [
    "textFile = sc.textFile('./data/data2.txt')\n",
    "lines_map = textFile.map(lambda line: line.split(' '))\n",
    "lines_flatmap = textFile.flatMap(lambda line: line.split(' '))"
   ]
  },
  {
   "cell_type": "markdown",
   "id": "talented-identifier",
   "metadata": {},
   "source": [
    "## Applying Action to get the result of the above transformation\n",
    "\n",
    "## Collect\n",
    "```python\n",
    "collect()\n",
    "```\n",
    "Return all the elements of the dataset as an array at the driver program. This is usually useful after a filter or other operation that returns a sufficiently small subset of the data."
   ]
  },
  {
   "cell_type": "code",
   "execution_count": 8,
   "id": "former-gates",
   "metadata": {},
   "outputs": [
    {
     "data": {
      "text/plain": [
       "[['hello', 'world', 'hello', 'hello']]"
      ]
     },
     "execution_count": 8,
     "metadata": {},
     "output_type": "execute_result"
    }
   ],
   "source": [
    "lines_map.collect()"
   ]
  },
  {
   "cell_type": "code",
   "execution_count": 9,
   "id": "abstract-speed",
   "metadata": {},
   "outputs": [
    {
     "data": {
      "text/plain": [
       "['hello', 'world', 'hello', 'hello']"
      ]
     },
     "execution_count": 9,
     "metadata": {},
     "output_type": "execute_result"
    }
   ],
   "source": [
    "lines_flatmap.collect()"
   ]
  },
  {
   "cell_type": "code",
   "execution_count": 10,
   "id": "authorized-barrel",
   "metadata": {},
   "outputs": [],
   "source": [
    "countLines = lines_flatmap.map(lambda x: (x, 1))"
   ]
  },
  {
   "cell_type": "code",
   "execution_count": 11,
   "id": "detected-mirror",
   "metadata": {},
   "outputs": [
    {
     "data": {
      "text/plain": [
       "[('hello', 1), ('world', 1), ('hello', 1), ('hello', 1)]"
      ]
     },
     "execution_count": 11,
     "metadata": {},
     "output_type": "execute_result"
    }
   ],
   "source": [
    "countLines.collect()"
   ]
  },
  {
   "cell_type": "markdown",
   "id": "double-sample",
   "metadata": {},
   "source": [
    "## reduceByKey\n",
    "\n",
    "```P.S. : reduceByKey is a transformation```\n",
    "\n",
    "```python\n",
    "reduceByKey(func, [numPartitions])\n",
    "```\n",
    "When called on a dataset of (K, V) pairs, returns a dataset of (K, V) pairs where the values for each key are aggregated using the given reduce function func, which must be of type (V,V) => V. Like in groupByKey, the number of reduce tasks is configurable through an optional second argument."
   ]
  },
  {
   "cell_type": "code",
   "execution_count": 12,
   "id": "durable-canyon",
   "metadata": {},
   "outputs": [],
   "source": [
    "totalWordCount = countLines.reduceByKey(lambda x, y: x+y)"
   ]
  },
  {
   "cell_type": "code",
   "execution_count": 13,
   "id": "criminal-motion",
   "metadata": {},
   "outputs": [
    {
     "data": {
      "text/plain": [
       "[('world', 1), ('hello', 3)]"
      ]
     },
     "execution_count": 13,
     "metadata": {},
     "output_type": "execute_result"
    }
   ],
   "source": [
    "totalWordCount.collect()"
   ]
  },
  {
   "cell_type": "code",
   "execution_count": null,
   "id": "excessive-skirt",
   "metadata": {},
   "outputs": [],
   "source": []
  }
 ],
 "metadata": {
  "kernelspec": {
   "display_name": "Python 3",
   "language": "python",
   "name": "python3"
  },
  "language_info": {
   "codemirror_mode": {
    "name": "ipython",
    "version": 3
   },
   "file_extension": ".py",
   "mimetype": "text/x-python",
   "name": "python",
   "nbconvert_exporter": "python",
   "pygments_lexer": "ipython3",
   "version": "3.8.7"
  }
 },
 "nbformat": 4,
 "nbformat_minor": 5
}
