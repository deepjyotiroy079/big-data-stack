{
 "cells": [
  {
   "cell_type": "code",
   "execution_count": 1,
   "id": "parallel-brown",
   "metadata": {},
   "outputs": [],
   "source": [
    "from pyspark import SparkConf, SparkContext\n",
    "\n",
    "conf = SparkConf().setAppName('RDD_Actions')\n",
    "\n",
    "sc = SparkContext.getOrCreate(conf=conf)"
   ]
  },
  {
   "cell_type": "markdown",
   "id": "satisfactory-calculator",
   "metadata": {},
   "source": [
    "# RDD Actions\n",
    "\n",
    "Unlike transformations that produce RDDs, Action functions produce a value back to the Spark driver program. Actions may trigger a previously constructed, lazy RDD to be evaluated."
   ]
  },
  {
   "cell_type": "markdown",
   "id": "false-edwards",
   "metadata": {},
   "source": [
    "## Reduce Action\n",
    "\n",
    "aggregates elements of dataset through a function"
   ]
  },
  {
   "cell_type": "code",
   "execution_count": 3,
   "id": "false-whole",
   "metadata": {},
   "outputs": [
    {
     "data": {
      "text/plain": [
       "15"
      ]
     },
     "execution_count": 3,
     "metadata": {},
     "output_type": "execute_result"
    }
   ],
   "source": [
    "from operator import add\n",
    "sc.parallelize(range(1, 6)).reduce(add)"
   ]
  },
  {
   "cell_type": "code",
   "execution_count": 19,
   "id": "dressed-elder",
   "metadata": {},
   "outputs": [
    {
     "data": {
      "text/plain": [
       "10"
      ]
     },
     "execution_count": 19,
     "metadata": {},
     "output_type": "execute_result"
    }
   ],
   "source": [
    "sc.parallelize((2 for _ in range(10))).map(lambda c: 1).reduce(add)"
   ]
  },
  {
   "cell_type": "code",
   "execution_count": 23,
   "id": "constant-tourist",
   "metadata": {},
   "outputs": [
    {
     "name": "stdout",
     "output_type": "stream",
     "text": [
      "After transformation and reduction :  110\n"
     ]
    }
   ],
   "source": [
    "# create a list of numbers from 1 - 10, double the numbers and then add them\n",
    "# print('Initial : ', sc.parallelize(range(1, 11)).map(lambda c: c*2).collect())\n",
    "print('After transformation and reduction : ', sc.parallelize(range(1, 11)).map(lambda c: c*2).cache().reduce(add)) ## actual"
   ]
  },
  {
   "cell_type": "markdown",
   "id": "funded-purple",
   "metadata": {},
   "source": [
    "## First Action\n",
    "\n",
    "returns the first element of RDD."
   ]
  },
  {
   "cell_type": "code",
   "execution_count": 24,
   "id": "circular-camel",
   "metadata": {},
   "outputs": [
    {
     "data": {
      "text/plain": [
       "10"
      ]
     },
     "execution_count": 24,
     "metadata": {},
     "output_type": "execute_result"
    }
   ],
   "source": [
    "sc.parallelize([10, 1, 4, 5]).first()"
   ]
  },
  {
   "cell_type": "markdown",
   "id": "strong-oxford",
   "metadata": {},
   "source": [
    "## takeOrdered Action\n",
    "\n",
    "returns an array with given number of ordered elements in RDD."
   ]
  },
  {
   "cell_type": "code",
   "execution_count": 28,
   "id": "assured-penny",
   "metadata": {},
   "outputs": [
    {
     "data": {
      "text/plain": [
       "[1, 1, 5, 7, 10]"
      ]
     },
     "execution_count": 28,
     "metadata": {},
     "output_type": "execute_result"
    }
   ],
   "source": [
    "sc.parallelize([10, 1, 5, 7, 1]).takeOrdered(5)"
   ]
  },
  {
   "cell_type": "markdown",
   "id": "controlled-patch",
   "metadata": {},
   "source": [
    "## Take Action\n",
    "\n",
    "returns array of elements as specified number in the take method\n",
    "\n",
    "Eg. take(5) will return 5 elements without order."
   ]
  },
  {
   "cell_type": "code",
   "execution_count": 29,
   "id": "challenging-princess",
   "metadata": {},
   "outputs": [
    {
     "data": {
      "text/plain": [
       "[0, 1, 2, 3, 4, 5, 6, 7, 8, 9]"
      ]
     },
     "execution_count": 29,
     "metadata": {},
     "output_type": "execute_result"
    }
   ],
   "source": [
    "sc.parallelize(range(0, 100)).take(10)"
   ]
  },
  {
   "cell_type": "markdown",
   "id": "driving-lawsuit",
   "metadata": {},
   "source": [
    "## Count\n",
    "\n",
    "returns a long value indicating the number of elements present in RDD."
   ]
  },
  {
   "cell_type": "code",
   "execution_count": 31,
   "id": "circular-strategy",
   "metadata": {},
   "outputs": [
    {
     "data": {
      "text/plain": [
       "143"
      ]
     },
     "execution_count": 31,
     "metadata": {},
     "output_type": "execute_result"
    }
   ],
   "source": [
    "sc.parallelize(range(20, 163)).count()"
   ]
  },
  {
   "cell_type": "markdown",
   "id": "living-european",
   "metadata": {},
   "source": [
    "## Collect\n",
    "\n",
    "- returns the elements of the dataset as an array to the driver program\n",
    "- should be used wisely as all workers return the data to the driver program\n",
    "- if the dataset is huge, it may give error as <strong>OutOfMemoryError</strong>"
   ]
  },
  {
   "cell_type": "code",
   "execution_count": 32,
   "id": "subject-spectrum",
   "metadata": {},
   "outputs": [
    {
     "data": {
      "text/plain": [
       "['Apple', 'Banana', 'Grapes', 'Apple']"
      ]
     },
     "execution_count": 32,
     "metadata": {},
     "output_type": "execute_result"
    }
   ],
   "source": [
    "sc.parallelize(['Apple', 'Banana', 'Grapes', 'Apple']).collect()"
   ]
  },
  {
   "cell_type": "code",
   "execution_count": 33,
   "id": "remarkable-sensitivity",
   "metadata": {},
   "outputs": [
    {
     "data": {
      "text/plain": [
       "['Apple', 'Banana', 'Grapes']"
      ]
     },
     "execution_count": 33,
     "metadata": {},
     "output_type": "execute_result"
    }
   ],
   "source": [
    "sc.parallelize(['Apple', 'Banana', 'Grapes', 'Apple']).distinct().collect()"
   ]
  },
  {
   "cell_type": "markdown",
   "id": "prospective-provincial",
   "metadata": {},
   "source": [
    "## saveAsTextFile\n",
    "\n",
    "writes entire RDD dataset as a textfile on the path specified on the local file system or HDFS"
   ]
  },
  {
   "cell_type": "code",
   "execution_count": 34,
   "id": "enabling-finger",
   "metadata": {},
   "outputs": [],
   "source": [
    "sc.parallelize(range(1, 100), 8).saveAsTextFile('./data/saveAsTextRDD.txt')"
   ]
  },
  {
   "cell_type": "markdown",
   "id": "fitted-brick",
   "metadata": {},
   "source": [
    "## ForEach (Some issue...)\n",
    "\n",
    "passes each element in an RDD through a function "
   ]
  },
  {
   "cell_type": "code",
   "execution_count": 43,
   "id": "regional-sleeve",
   "metadata": {},
   "outputs": [],
   "source": [
    "def f(x): print(x)\n",
    "    \n",
    "result = sc.parallelize([1, 2, 3, 4])\n",
    "result.foreach(f)"
   ]
  },
  {
   "cell_type": "markdown",
   "id": "specified-sympathy",
   "metadata": {},
   "source": [
    "## ForEachPartition\n",
    "\n",
    "    executes the function for each partition"
   ]
  },
  {
   "cell_type": "code",
   "execution_count": 40,
   "id": "dependent-audience",
   "metadata": {},
   "outputs": [],
   "source": [
    "sc.parallelize(range(1, 11), 5).foreachPartition(lambda c: print(c))"
   ]
  },
  {
   "cell_type": "markdown",
   "id": "mineral-phoenix",
   "metadata": {},
   "source": [
    "## Mathematical Operations"
   ]
  },
  {
   "cell_type": "code",
   "execution_count": 44,
   "id": "alien-adolescent",
   "metadata": {},
   "outputs": [],
   "source": [
    "numbers = sc.parallelize(range(1, 100))"
   ]
  },
  {
   "cell_type": "code",
   "execution_count": 49,
   "id": "geological-vacation",
   "metadata": {},
   "outputs": [
    {
     "data": {
      "text/plain": [
       "1"
      ]
     },
     "execution_count": 49,
     "metadata": {},
     "output_type": "execute_result"
    }
   ],
   "source": [
    "numbers.min()\n"
   ]
  },
  {
   "cell_type": "code",
   "execution_count": 50,
   "id": "republican-impossible",
   "metadata": {},
   "outputs": [
    {
     "data": {
      "text/plain": [
       "99"
      ]
     },
     "execution_count": 50,
     "metadata": {},
     "output_type": "execute_result"
    }
   ],
   "source": [
    "numbers.max()"
   ]
  },
  {
   "cell_type": "code",
   "execution_count": 51,
   "id": "otherwise-mason",
   "metadata": {},
   "outputs": [
    {
     "data": {
      "text/plain": [
       "4950"
      ]
     },
     "execution_count": 51,
     "metadata": {},
     "output_type": "execute_result"
    }
   ],
   "source": [
    "numbers.sum()\n"
   ]
  },
  {
   "cell_type": "code",
   "execution_count": 52,
   "id": "worth-madrid",
   "metadata": {},
   "outputs": [
    {
     "data": {
      "text/plain": [
       "816.6666666666666"
      ]
     },
     "execution_count": 52,
     "metadata": {},
     "output_type": "execute_result"
    }
   ],
   "source": [
    "numbers.variance()\n"
   ]
  },
  {
   "cell_type": "code",
   "execution_count": 53,
   "id": "scientific-representative",
   "metadata": {},
   "outputs": [
    {
     "data": {
      "text/plain": [
       "50.0"
      ]
     },
     "execution_count": 53,
     "metadata": {},
     "output_type": "execute_result"
    }
   ],
   "source": [
    "numbers.mean()\n"
   ]
  },
  {
   "cell_type": "code",
   "execution_count": 54,
   "id": "hawaiian-battle",
   "metadata": {},
   "outputs": [
    {
     "data": {
      "text/plain": [
       "28.577380332470412"
      ]
     },
     "execution_count": 54,
     "metadata": {},
     "output_type": "execute_result"
    }
   ],
   "source": [
    "numbers.stdev()"
   ]
  },
  {
   "cell_type": "code",
   "execution_count": null,
   "id": "central-fortune",
   "metadata": {},
   "outputs": [],
   "source": []
  }
 ],
 "metadata": {
  "kernelspec": {
   "display_name": "Python 3",
   "language": "python",
   "name": "python3"
  },
  "language_info": {
   "codemirror_mode": {
    "name": "ipython",
    "version": 3
   },
   "file_extension": ".py",
   "mimetype": "text/x-python",
   "name": "python",
   "nbconvert_exporter": "python",
   "pygments_lexer": "ipython3",
   "version": "3.8.7"
  }
 },
 "nbformat": 4,
 "nbformat_minor": 5
}
