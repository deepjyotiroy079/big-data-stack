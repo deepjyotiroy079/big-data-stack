{
 "cells": [
  {
   "cell_type": "code",
   "execution_count": null,
   "id": "sexual-compromise",
   "metadata": {},
   "outputs": [],
   "source": [
    "from pyspark import SparkContext, SparkConf\n",
    "from pyspark.sql import SparkSession\n",
    "from pyspark.sql.functions import split, explode\n",
    "\n",
    "if __name__ == \"__main__\":\n",
    "    \n",
    "    spark = SparkSession.builder.appName(\"pyspark_asses0q1\").getOrCreate()\n",
    "    df = spark.sparkContext.textFile('data/input.txt')\n",
    "    print(df.collect())\n",
    "    df_dataframe = spark.createDataFrame(df)\n",
    "    \n",
    "#     df_mod = df.map(parseInt)"
   ]
  },
  {
   "cell_type": "code",
   "execution_count": null,
   "id": "burning-wells",
   "metadata": {},
   "outputs": [],
   "source": []
  }
 ],
 "metadata": {
  "kernelspec": {
   "display_name": "Python 3",
   "language": "python",
   "name": "python3"
  },
  "language_info": {
   "codemirror_mode": {
    "name": "ipython",
    "version": 3
   },
   "file_extension": ".py",
   "mimetype": "text/x-python",
   "name": "python",
   "nbconvert_exporter": "python",
   "pygments_lexer": "ipython3",
   "version": "3.8.7"
  }
 },
 "nbformat": 4,
 "nbformat_minor": 5
}
