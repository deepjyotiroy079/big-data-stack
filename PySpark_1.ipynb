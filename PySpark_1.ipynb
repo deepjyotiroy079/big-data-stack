{
 "cells": [
  {
   "cell_type": "code",
   "execution_count": 74,
   "metadata": {},
   "outputs": [
    {
     "name": "stdout",
     "output_type": "stream",
     "text": [
      "The actual line :  ['hello', 'world', 'people']\n",
      "R1 :  [5, 5, 6]\n",
      "-6\n"
     ]
    }
   ],
   "source": [
    "from pyspark import SparkContext, SparkConf\n",
    "from operation import add # can also use this for operations\n",
    "\n",
    "if __name__ == \"__main__\":\n",
    "    \n",
    "    conf = SparkConf().setAppName(\"Transformations\")\n",
    "    sc = SparkContext.getOrCreate(conf=conf)\n",
    "    \n",
    "    # loading the data from the data.txt file\n",
    "    lines = sc.textFile('./data.txt')\n",
    "    \n",
    "    # the actual line\n",
    "    print('The actual line : ', lines.collect())\n",
    "    lineLength = lines.map(lambda s: len(s))\n",
    "    \n",
    "    # the length of individual lines \\n\n",
    "    r1 = lineLength.collect()\n",
    "    print('R1 : ', r1)\n",
    "    \n",
    "    # taking two elements at a time to add and reduce\n",
    "    totalLength = lineLength.reduce(lambda x, y: (x + y))\n",
    "    print(totalLength)\n",
    "    "
   ]
  },
  {
   "cell_type": "code",
   "execution_count": null,
   "metadata": {},
   "outputs": [],
   "source": []
  }
 ],
 "metadata": {
  "kernelspec": {
   "display_name": "Python 3",
   "language": "python",
   "name": "python3"
  },
  "language_info": {
   "codemirror_mode": {
    "name": "ipython",
    "version": 3
   },
   "file_extension": ".py",
   "mimetype": "text/x-python",
   "name": "python",
   "nbconvert_exporter": "python",
   "pygments_lexer": "ipython3",
   "version": "3.8.7"
  }
 },
 "nbformat": 4,
 "nbformat_minor": 4
}
